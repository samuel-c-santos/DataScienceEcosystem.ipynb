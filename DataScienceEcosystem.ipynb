{
  "nbformat": 4,
  "nbformat_minor": 0,
  "metadata": {
    "colab": {
      "provenance": []
    },
    "kernelspec": {
      "name": "python3",
      "display_name": "Python 3"
    },
    "language_info": {
      "name": "python"
    }
  },
  "cells": [
    {
      "cell_type": "markdown",
      "source": [
        "# Data Science Tools and Ecosystem"
      ],
      "metadata": {
        "id": "W8XXqENtJH1S"
      }
    },
    {
      "cell_type": "markdown",
      "source": [
        "In this notebook, Data Science Tools and Ecosystem are summarized.\n"
      ],
      "metadata": {
        "id": "o9uWNuVJJh9j"
      }
    },
    {
      "cell_type": "markdown",
      "source": [
        "Some of the popular languages that Data Scientists use are:\n",
        "\n",
        "* Python\n",
        "* R\n",
        "* SQL\n",
        "* Java\n",
        "* Scala\n"
      ],
      "metadata": {
        "id": "oxOHhlKnJZ0r"
      }
    },
    {
      "cell_type": "markdown",
      "source": [
        "Some of the commonly used libraries used by Data Scientists include:\n",
        "\n",
        "* NumPy\n",
        "* Pandas\n",
        "* SciPy\n",
        "* Matplotlib\n",
        "* Seaborn\n"
      ],
      "metadata": {
        "id": "a-PJii4lJphq"
      }
    },
    {
      "cell_type": "markdown",
      "source": [
        "| Data Science Tools | Description |\n",
        "|---|---|\n",
        "| Jupyter Notebooks | Interactive computing and data analysis environment |\n",
        "| Anaconda | Python distribution for data science |\n",
        "| Scikit-Learn | Machine learning library for Python |\n",
        "| TensorFlow | Machine learning library for Python |\n",
        "| PyTorch | Machine learning library for Python |\n"
      ],
      "metadata": {
        "id": "kpGyZ_YUJ8Oi"
      }
    },
    {
      "cell_type": "markdown",
      "source": [
        "# Examples of Arithmetic Expressions\n",
        "\n",
        "Below are a few examples of evaluating arithmetic expressions in Python.\n"
      ],
      "metadata": {
        "id": "3jCf794cKJgb"
      }
    },
    {
      "cell_type": "code",
      "source": [
        "# Multiply and add numbers\n",
        "\n",
        "(3 * 4) + 5\n"
      ],
      "metadata": {
        "id": "pzbXP5hEKO5S",
        "outputId": "8c445d37-ff09-47ca-e559-91e8388d44ca",
        "colab": {
          "base_uri": "https://localhost:8080/"
        }
      },
      "execution_count": 11,
      "outputs": [
        {
          "output_type": "execute_result",
          "data": {
            "text/plain": [
              "17"
            ]
          },
          "metadata": {},
          "execution_count": 11
        }
      ]
    },
    {
      "cell_type": "code",
      "source": [
        "# Convert minutes to hours\n",
        "\n",
        "200 / 60\n"
      ],
      "metadata": {
        "id": "LD8cPB6IKUTj",
        "outputId": "e34dbec1-8619-4455-bc79-49f26a4655cf",
        "colab": {
          "base_uri": "https://localhost:8080/"
        }
      },
      "execution_count": 12,
      "outputs": [
        {
          "output_type": "execute_result",
          "data": {
            "text/plain": [
              "3.3333333333333335"
            ]
          },
          "metadata": {},
          "execution_count": 12
        }
      ]
    },
    {
      "cell_type": "markdown",
      "source": [
        "# Objectives\n",
        "\n",
        "* List popular languages for Data Science\n",
        "* List commonly used libraries for Data Science\n",
        "* Describe Data Science tools\n",
        "* Evaluate arithmetic expressions in Python\n"
      ],
      "metadata": {
        "id": "1bvEfc-gKbGD"
      }
    },
    {
      "cell_type": "markdown",
      "source": [
        "# Author\n",
        "\n",
        "Samuel da Costa dos Santos\n"
      ],
      "metadata": {
        "id": "z3gVEqyMKedk"
      }
    }
  ]
}