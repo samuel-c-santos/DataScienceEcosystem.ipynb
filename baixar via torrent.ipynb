{
  "cells": [
    {
      "cell_type": "markdown",
      "metadata": {
        "id": "Be3iKZ4FZ1LV"
      },
      "source": [
        "### Install dependencies"
      ]
    },
    {
      "cell_type": "code",
      "execution_count": 1,
      "metadata": {
        "colab": {
          "base_uri": "https://localhost:8080/"
        },
        "id": "qEPL7qdkaAoG",
        "outputId": "6f200972-ec51-4c81-dfff-78acab5935e9"
      },
      "outputs": [
        {
          "output_type": "stream",
          "name": "stdout",
          "text": [
            "Requirement already satisfied: pip in /usr/local/lib/python3.10/dist-packages (23.1.2)\n",
            "Collecting pip\n",
            "  Downloading pip-24.0-py3-none-any.whl (2.1 MB)\n",
            "\u001b[2K     \u001b[90m━━━━━━━━━━━━━━━━━━━━━━━━━━━━━━━━━━━━━━━━\u001b[0m \u001b[32m2.1/2.1 MB\u001b[0m \u001b[31m9.8 MB/s\u001b[0m eta \u001b[36m0:00:00\u001b[0m\n",
            "\u001b[?25hRequirement already satisfied: setuptools in /usr/local/lib/python3.10/dist-packages (67.7.2)\n",
            "Collecting setuptools\n",
            "  Using cached setuptools-69.5.1-py3-none-any.whl (894 kB)\n",
            "Requirement already satisfied: wheel in /usr/local/lib/python3.10/dist-packages (0.43.0)\n",
            "Installing collected packages: setuptools, pip\n",
            "  Attempting uninstall: setuptools\n",
            "    Found existing installation: setuptools 67.7.2\n",
            "    Uninstalling setuptools-67.7.2:\n",
            "      Successfully uninstalled setuptools-67.7.2\n",
            "  Attempting uninstall: pip\n",
            "    Found existing installation: pip 23.1.2\n",
            "    Uninstalling pip-23.1.2:\n",
            "      Successfully uninstalled pip-23.1.2\n",
            "\u001b[31mERROR: pip's dependency resolver does not currently take into account all the packages that are installed. This behaviour is the source of the following dependency conflicts.\n",
            "ipython 7.34.0 requires jedi>=0.16, which is not installed.\u001b[0m\u001b[31m\n",
            "\u001b[0mSuccessfully installed pip-24.0 setuptools-69.5.1\n",
            "Collecting lbry-libtorrent\n",
            "  Downloading lbry_libtorrent-1.2.4-py3-none-any.whl.metadata (347 bytes)\n",
            "Collecting wget\n",
            "  Downloading wget-3.2.zip (10 kB)\n",
            "  Preparing metadata (setup.py) ... \u001b[?25l\u001b[?25hdone\n",
            "Collecting torf\n",
            "  Downloading torf-4.2.6-py3-none-any.whl.metadata (3.8 kB)\n",
            "Collecting flatbencode==0.2.* (from torf)\n",
            "  Downloading flatbencode-0.2.1.tar.gz (3.2 kB)\n",
            "  Preparing metadata (setup.py) ... \u001b[?25l\u001b[?25hdone\n",
            "Downloading lbry_libtorrent-1.2.4-py3-none-any.whl (2.4 MB)\n",
            "\u001b[2K   \u001b[90m━━━━━━━━━━━━━━━━━━━━━━━━━━━━━━━━━━━━━━━━\u001b[0m \u001b[32m2.4/2.4 MB\u001b[0m \u001b[31m9.5 MB/s\u001b[0m eta \u001b[36m0:00:00\u001b[0m\n",
            "\u001b[?25hDownloading torf-4.2.6-py3-none-any.whl (123 kB)\n",
            "\u001b[2K   \u001b[90m━━━━━━━━━━━━━━━━━━━━━━━━━━━━━━━━━━━━━━━━\u001b[0m \u001b[32m123.3/123.3 kB\u001b[0m \u001b[31m8.0 MB/s\u001b[0m eta \u001b[36m0:00:00\u001b[0m\n",
            "\u001b[?25hBuilding wheels for collected packages: wget, flatbencode\n",
            "  Building wheel for wget (setup.py) ... \u001b[?25l\u001b[?25hdone\n",
            "  Created wheel for wget: filename=wget-3.2-py3-none-any.whl size=9656 sha256=e35f9aa76b9ac8135136ede2ee85d4e70dd20fae79c13894468485b93eadd7ca\n",
            "  Stored in directory: /root/.cache/pip/wheels/8b/f1/7f/5c94f0a7a505ca1c81cd1d9208ae2064675d97582078e6c769\n",
            "  Building wheel for flatbencode (setup.py) ... \u001b[?25l\u001b[?25hdone\n",
            "  Created wheel for flatbencode: filename=flatbencode-0.2.1-py3-none-any.whl size=3258 sha256=874de47e648c83f55bd4fdbc11442caaaa4124086aeb11bc63da818bd85dbc0f\n",
            "  Stored in directory: /root/.cache/pip/wheels/89/ed/eb/b60ce338031deb20d938674e252c6de156ea9e9649bf748d50\n",
            "Successfully built wget flatbencode\n",
            "Installing collected packages: wget, lbry-libtorrent, flatbencode, torf\n",
            "Successfully installed flatbencode-0.2.1 lbry-libtorrent-1.2.4 torf-4.2.6 wget-3.2\n",
            "\u001b[33mWARNING: Running pip as the 'root' user can result in broken permissions and conflicting behaviour with the system package manager. It is recommended to use a virtual environment instead: https://pip.pypa.io/warnings/venv\u001b[0m\u001b[33m\n",
            "Reading package lists... Done\n",
            "Building dependency tree... Done\n",
            "Reading state information... Done\n",
            "The following additional packages will be installed:\n",
            "  libtorrent-rasterbar2.0\n",
            "The following NEW packages will be installed:\n",
            "  libtorrent-rasterbar2.0 python3-libtorrent\n",
            "0 upgraded, 2 newly installed, 0 to remove and 45 not upgraded.\n",
            "Need to get 2,098 kB of archives.\n",
            "After this operation, 7,907 kB of additional disk space will be used.\n",
            "Get:1 http://archive.ubuntu.com/ubuntu jammy/universe amd64 libtorrent-rasterbar2.0 amd64 2.0.5-5 [1,501 kB]\n",
            "Get:2 http://archive.ubuntu.com/ubuntu jammy/universe amd64 python3-libtorrent amd64 2.0.5-5 [597 kB]\n",
            "Fetched 2,098 kB in 0s (7,314 kB/s)\n",
            "Selecting previously unselected package libtorrent-rasterbar2.0:amd64.\n",
            "(Reading database ... 121920 files and directories currently installed.)\n",
            "Preparing to unpack .../libtorrent-rasterbar2.0_2.0.5-5_amd64.deb ...\n",
            "Unpacking libtorrent-rasterbar2.0:amd64 (2.0.5-5) ...\n",
            "Selecting previously unselected package python3-libtorrent.\n",
            "Preparing to unpack .../python3-libtorrent_2.0.5-5_amd64.deb ...\n",
            "Unpacking python3-libtorrent (2.0.5-5) ...\n",
            "Setting up libtorrent-rasterbar2.0:amd64 (2.0.5-5) ...\n",
            "Setting up python3-libtorrent (2.0.5-5) ...\n",
            "Processing triggers for libc-bin (2.35-0ubuntu3.4) ...\n",
            "/sbin/ldconfig.real: /usr/local/lib/libtbbbind.so.3 is not a symbolic link\n",
            "\n",
            "/sbin/ldconfig.real: /usr/local/lib/libtbbmalloc.so.2 is not a symbolic link\n",
            "\n",
            "/sbin/ldconfig.real: /usr/local/lib/libtbb.so.12 is not a symbolic link\n",
            "\n",
            "/sbin/ldconfig.real: /usr/local/lib/libtbbbind_2_5.so.3 is not a symbolic link\n",
            "\n",
            "/sbin/ldconfig.real: /usr/local/lib/libtbbmalloc_proxy.so.2 is not a symbolic link\n",
            "\n",
            "/sbin/ldconfig.real: /usr/local/lib/libtbbbind_2_0.so.3 is not a symbolic link\n",
            "\n"
          ]
        }
      ],
      "source": [
        "!python -m pip install --upgrade pip setuptools wheel && python -m pip install lbry-libtorrent wget torf && apt install python3-libtorrent"
      ]
    },
    {
      "cell_type": "markdown",
      "metadata": {
        "id": "6sfsiTXEaN8_"
      },
      "source": [
        "### Download torrent"
      ]
    },
    {
      "cell_type": "code",
      "execution_count": 2,
      "metadata": {
        "colab": {
          "base_uri": "https://localhost:8080/"
        },
        "id": "KpXzNFTgaRPW",
        "outputId": "3944018f-0738-4cf9-c433-a71b76bf401e"
      },
      "outputs": [
        {
          "output_type": "stream",
          "name": "stdout",
          "text": [
            "Input Torrent file link or Magnet link and Press Enter: magnet:?xt=urn:btih:F88F0B5A1B57571CDCAA7D2911F01F63013E29BF&dn=SketchUp+Pro+2022+v22.0.316+%28x64%29+%2B+Fix+%7BCracksHash%7D&tr=udp%3A%2F%2Ftracker.openbittorrent.com%3A80%2Fannounce&tr=udp%3A%2F%2Ftracker.opentrackr.org%3A1337%2Fannounce&tr=udp%3A%2F%2Ftracker.pirateparty.gr%3A6969%2Fannounce&tr=udp%3A%2F%2Ftracker.tiny-vps.com%3A6969%2Fannounce&tr=udp%3A%2F%2Ftracker.torrent.eu.org%3A451%2Fannounce&tr=udp%3A%2F%2Fexplodie.org%3A6969%2Fannounce&tr=udp%3A%2F%2Fipv4.tracker.harry.lu%3A80%2Fannounce&tr=udp%3A%2F%2Fopen.stealth.si%3A80%2Fannounce&tr=udp%3A%2F%2Ftracker.coppersurfer.tk%3A6969%2Fannounce&tr=udp%3A%2F%2Ftracker.cyberia.is%3A6969%2Fannounce&tr=udp%3A%2F%2Ftracker.internetwarriors.net%3A1337%2Fannounce&tr=udp%3A%2F%2Ftracker.open-internet.nl%3A6969%2Fannounce&tr=udp%3A%2F%2Ftracker.zer0day.to%3A1337%2Fannounce&tr=udp%3A%2F%2Ftracker.leechers-paradise.org%3A6969%2Fannounce&tr=udp%3A%2F%2Ftracker.zer0day.to%3A1337%2Fannounce&tr=udp%3A%2F%2Ftracker.leechers-paradise.org%3A6969%2Fannounce&tr=udp%3A%2F%2Fcoppersurfer.tk%3A6969%2Fannounce\n",
            "magnet:?xt=urn:btih:F88F0B5A1B57571CDCAA7D2911F01F63013E29BF&dn=SketchUp+Pro+2022+v22.0.316+%28x64%29+%2B+Fix+%7BCracksHash%7D&tr=udp%3A%2F%2Ftracker.openbittorrent.com%3A80%2Fannounce&tr=udp%3A%2F%2Ftracker.opentrackr.org%3A1337%2Fannounce&tr=udp%3A%2F%2Ftracker.pirateparty.gr%3A6969%2Fannounce&tr=udp%3A%2F%2Ftracker.tiny-vps.com%3A6969%2Fannounce&tr=udp%3A%2F%2Ftracker.torrent.eu.org%3A451%2Fannounce&tr=udp%3A%2F%2Fexplodie.org%3A6969%2Fannounce&tr=udp%3A%2F%2Fipv4.tracker.harry.lu%3A80%2Fannounce&tr=udp%3A%2F%2Fopen.stealth.si%3A80%2Fannounce&tr=udp%3A%2F%2Ftracker.coppersurfer.tk%3A6969%2Fannounce&tr=udp%3A%2F%2Ftracker.cyberia.is%3A6969%2Fannounce&tr=udp%3A%2F%2Ftracker.internetwarriors.net%3A1337%2Fannounce&tr=udp%3A%2F%2Ftracker.open-internet.nl%3A6969%2Fannounce&tr=udp%3A%2F%2Ftracker.zer0day.to%3A1337%2Fannounce&tr=udp%3A%2F%2Ftracker.leechers-paradise.org%3A6969%2Fannounce&tr=udp%3A%2F%2Ftracker.zer0day.to%3A1337%2Fannounce&tr=udp%3A%2F%2Ftracker.leechers-paradise.org%3A6969%2Fannounce&tr=udp%3A%2F%2Fcoppersurfer.tk%3A6969%2Fannounce\n",
            "2024-05-02 03:02:12.631023\n",
            "Downloading Metadata...\n",
            "Got Metadata, Starting Torrent Download...\n",
            "Starting SketchUp Pro 2022 v22.0.316 (x64) + Fix {CracksHash}\n",
            "0.02% complete (down: 8.0 kb/s up: 0.8 kB/s peers: 7) downloading \n",
            "4.27% complete (down: 2757.5 kb/s up: 90.5 kB/s peers: 12) downloading \n",
            "8.61% complete (down: 3750.4 kb/s up: 119.7 kB/s peers: 15) downloading \n",
            "12.78% complete (down: 3860.1 kb/s up: 125.2 kB/s peers: 25) downloading \n",
            "16.85% complete (down: 4029.1 kb/s up: 130.4 kB/s peers: 47) downloading \n",
            "20.75% complete (down: 3867.3 kb/s up: 125.6 kB/s peers: 75) downloading \n",
            "24.65% complete (down: 3791.8 kb/s up: 122.4 kB/s peers: 75) downloading \n",
            "28.68% complete (down: 3807.0 kb/s up: 122.2 kB/s peers: 73) downloading \n",
            "32.61% complete (down: 3822.1 kb/s up: 121.7 kB/s peers: 71) downloading \n",
            "36.60% complete (down: 3856.2 kb/s up: 122.5 kB/s peers: 70) downloading \n",
            "40.61% complete (down: 3840.0 kb/s up: 122.2 kB/s peers: 69) downloading \n",
            "44.35% complete (down: 3722.3 kb/s up: 118.9 kB/s peers: 68) downloading \n",
            "47.99% complete (down: 3594.0 kb/s up: 113.4 kB/s peers: 68) downloading \n",
            "51.85% complete (down: 3671.3 kb/s up: 115.9 kB/s peers: 69) downloading \n",
            "55.89% complete (down: 3808.8 kb/s up: 121.0 kB/s peers: 77) downloading \n",
            "59.93% complete (down: 3890.5 kb/s up: 123.0 kB/s peers: 76) downloading \n",
            "63.76% complete (down: 3740.5 kb/s up: 119.2 kB/s peers: 78) downloading \n",
            "67.69% complete (down: 3765.4 kb/s up: 120.2 kB/s peers: 78) downloading \n",
            "71.61% complete (down: 3782.5 kb/s up: 121.1 kB/s peers: 78) downloading \n",
            "75.51% complete (down: 3778.4 kb/s up: 121.5 kB/s peers: 79) downloading \n",
            "79.30% complete (down: 3686.9 kb/s up: 117.7 kB/s peers: 77) downloading \n",
            "83.19% complete (down: 3763.5 kb/s up: 120.3 kB/s peers: 77) downloading \n",
            "87.05% complete (down: 3735.2 kb/s up: 119.1 kB/s peers: 77) downloading \n",
            "91.05% complete (down: 3802.0 kb/s up: 121.2 kB/s peers: 76) downloading \n",
            "94.94% complete (down: 3788.5 kb/s up: 120.6 kB/s peers: 74) downloading \n",
            "98.51% complete (down: 3432.9 kb/s up: 106.1 kB/s peers: 74) downloading \n",
            "SketchUp Pro 2022 v22.0.316 (x64) + Fix {CracksHash} COMPLETE\n",
            "Elapsed Time:  2 min : 23 sec\n",
            "2024-05-02 03:04:35.776283\n"
          ]
        }
      ],
      "source": [
        "import zipfile\n",
        "import os\n",
        "import libtorrent as lt\n",
        "import time\n",
        "import datetime\n",
        "import shutil\n",
        "\n",
        "params = {\n",
        "    'save_path': '/content/Torrent/',\n",
        "    'storage_mode': lt.storage_mode_t(2),\n",
        "}\n",
        "\n",
        "ses = lt.session()\n",
        "ses.listen_on(6881, 6891)\n",
        "link = input(\"Input Torrent file link or Magnet link and Press Enter: \")\n",
        "\n",
        "if link.endswith('.torrent'):\n",
        "    import wget\n",
        "    from torf import Torrent\n",
        "\n",
        "    if os.path.exists('torrent.torrent'):\n",
        "        os.remove('torrent.torrent')\n",
        "\n",
        "    wget.download(link, 'torrent.torrent')\n",
        "    t = Torrent.read('torrent.torrent')\n",
        "    link = str(t.magnet(name=True, size=False, trackers=False, tracker=False))\n",
        "\n",
        "\n",
        "print(link)\n",
        "handle = lt.add_magnet_uri(ses, link, params)\n",
        "# change the 0 to a 1 to download sequentially\n",
        "handle.set_sequential_download(0)\n",
        "ses.start_dht()\n",
        "begin = time.time()\n",
        "\n",
        "print(datetime.datetime.now())\n",
        "print('Downloading Metadata...')\n",
        "\n",
        "while not handle.has_metadata():\n",
        "    time.sleep(1)\n",
        "\n",
        "print('Got Metadata, Starting Torrent Download...')\n",
        "print(\"Starting\", handle.name())\n",
        "\n",
        "while handle.status().state != lt.torrent_status.seeding:\n",
        "    s = handle.status()\n",
        "    state_str = ['queued', 'checking', 'downloading metadata',\n",
        "                 'downloading', 'finished', 'seeding', 'allocating']\n",
        "    print('%.2f%% complete (down: %.1f kb/s up: %.1f kB/s peers: %d) %s ' %\n",
        "          (s.progress * 100, s.download_rate / 1000, s.upload_rate / 1000,\n",
        "           s.num_peers, state_str[s.state]))\n",
        "    time.sleep(5)\n",
        "\n",
        "end = time.time()\n",
        "print(handle.name(), \"COMPLETE\")\n",
        "print(\"Elapsed Time: \", int((end - begin) // 60), \"min :\", int((end - begin) % 60), \"sec\")\n",
        "print(datetime.datetime.now())"
      ]
    },
    {
      "cell_type": "markdown",
      "metadata": {
        "id": "aalJQuWHPiEK"
      },
      "source": [
        "### Zip the files"
      ]
    },
    {
      "cell_type": "code",
      "execution_count": 3,
      "metadata": {
        "id": "x0y9OuHqPiEK",
        "outputId": "54852082-5bc4-463f-8d94-0ce1815d72ec",
        "colab": {
          "base_uri": "https://localhost:8080/"
        }
      },
      "outputs": [
        {
          "output_type": "stream",
          "name": "stdout",
          "text": [
            "Zipping started...\n",
            "\n",
            "ALL DONE!\n"
          ]
        }
      ],
      "source": [
        "print('Zipping started...')\n",
        "\n",
        "ziph = zipfile.ZipFile('Downloaded-Torrent.zip', 'w', zipfile.ZIP_DEFLATED)\n",
        "path = 'content/Torrent/'\n",
        "for root, dirs, files in os.walk(path):\n",
        "    for file in files:\n",
        "        ziph.write(os.path.join(root, file),\n",
        "                   os.path.relpath(os.path.join(root, file),\n",
        "                                   os.path.join(path, '..')))\n",
        "ziph.close()\n",
        "\n",
        "print('\\nALL DONE!')"
      ]
    },
    {
      "cell_type": "code",
      "source": [
        "import shutil\n",
        "\n",
        "# Diretório de origem\n",
        "diretorio_origem = \"/content/Torrent\"\n",
        "\n",
        "# Nome do arquivo zip\n",
        "nome_arquivo_zip = \"SketchUp_Pro_2022.zip\"\n",
        "\n",
        "# Criar o arquivo zip\n",
        "shutil.make_archive(nome_arquivo_zip, 'zip', diretorio_origem)\n",
        "\n",
        "# Mover o arquivo zip para o diretório /content\n",
        "shutil.move(f\"{nome_arquivo_zip}.zip\", f\"/content/{nome_arquivo_zip}\")\n",
        "\n",
        "print(f\"Arquivo {nome_arquivo_zip} criado com sucesso!\")\n"
      ],
      "metadata": {
        "id": "v34E1g7rSLJt",
        "outputId": "b10c2740-445c-465f-8ad4-645f681445c4",
        "colab": {
          "base_uri": "https://localhost:8080/"
        }
      },
      "execution_count": 4,
      "outputs": [
        {
          "output_type": "stream",
          "name": "stdout",
          "text": [
            "Arquivo SketchUp_Pro_2022.zip criado com sucesso!\n"
          ]
        }
      ]
    }
  ],
  "metadata": {
    "colab": {
      "name": "torrent.ipynb",
      "provenance": []
    },
    "kernelspec": {
      "display_name": "Python 3",
      "name": "python3"
    },
    "language_info": {
      "name": "python"
    }
  },
  "nbformat": 4,
  "nbformat_minor": 0
}